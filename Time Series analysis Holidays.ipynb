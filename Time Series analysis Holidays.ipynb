{
 "cells": [
  {
   "cell_type": "code",
   "execution_count": 1,
   "metadata": {},
   "outputs": [
    {
     "name": "stderr",
     "output_type": "stream",
     "text": [
      "C:\\ProgramData\\Anaconda3\\lib\\site-packages\\ipykernel\\parentpoller.py:116: UserWarning: Parent poll failed.  If the frontend dies,\n",
      "                the kernel may be left running.  Please let us know\n",
      "                about your system (bitness, Python, etc.) at\n",
      "                ipython-dev@scipy.org\n",
      "  ipython-dev@scipy.org\"\"\")\n"
     ]
    }
   ],
   "source": [
    "import pandas as pd"
   ]
  },
  {
   "cell_type": "code",
   "execution_count": 3,
   "metadata": {},
   "outputs": [
    {
     "data": {
      "text/html": [
       "<div>\n",
       "<style scoped>\n",
       "    .dataframe tbody tr th:only-of-type {\n",
       "        vertical-align: middle;\n",
       "    }\n",
       "\n",
       "    .dataframe tbody tr th {\n",
       "        vertical-align: top;\n",
       "    }\n",
       "\n",
       "    .dataframe thead th {\n",
       "        text-align: right;\n",
       "    }\n",
       "</style>\n",
       "<table border=\"1\" class=\"dataframe\">\n",
       "  <thead>\n",
       "    <tr style=\"text-align: right;\">\n",
       "      <th></th>\n",
       "      <th>Open</th>\n",
       "      <th>High</th>\n",
       "      <th>Low</th>\n",
       "      <th>Close</th>\n",
       "      <th>Volume</th>\n",
       "    </tr>\n",
       "  </thead>\n",
       "  <tbody>\n",
       "    <tr>\n",
       "      <th>0</th>\n",
       "      <td>144.88</td>\n",
       "      <td>145.30</td>\n",
       "      <td>143.10</td>\n",
       "      <td>143.50</td>\n",
       "      <td>14277848</td>\n",
       "    </tr>\n",
       "    <tr>\n",
       "      <th>1</th>\n",
       "      <td>143.69</td>\n",
       "      <td>144.79</td>\n",
       "      <td>142.72</td>\n",
       "      <td>144.09</td>\n",
       "      <td>21569557</td>\n",
       "    </tr>\n",
       "    <tr>\n",
       "      <th>2</th>\n",
       "      <td>143.02</td>\n",
       "      <td>143.50</td>\n",
       "      <td>142.41</td>\n",
       "      <td>142.73</td>\n",
       "      <td>24128782</td>\n",
       "    </tr>\n",
       "    <tr>\n",
       "      <th>3</th>\n",
       "      <td>142.90</td>\n",
       "      <td>144.75</td>\n",
       "      <td>142.90</td>\n",
       "      <td>144.18</td>\n",
       "      <td>19201712</td>\n",
       "    </tr>\n",
       "    <tr>\n",
       "      <th>4</th>\n",
       "      <td>144.11</td>\n",
       "      <td>145.95</td>\n",
       "      <td>143.37</td>\n",
       "      <td>145.06</td>\n",
       "      <td>21090636</td>\n",
       "    </tr>\n",
       "  </tbody>\n",
       "</table>\n",
       "</div>"
      ],
      "text/plain": [
       "     Open    High     Low   Close    Volume\n",
       "0  144.88  145.30  143.10  143.50  14277848\n",
       "1  143.69  144.79  142.72  144.09  21569557\n",
       "2  143.02  143.50  142.41  142.73  24128782\n",
       "3  142.90  144.75  142.90  144.18  19201712\n",
       "4  144.11  145.95  143.37  145.06  21090636"
      ]
     },
     "execution_count": 3,
     "metadata": {},
     "output_type": "execute_result"
    }
   ],
   "source": [
    "#In this data frame we dont have date\n",
    "df=pd.read_csv(\"D:\\Gandhi\\Machine Learning\\holiday_date.csv\")\n",
    "df.head()"
   ]
  },
  {
   "cell_type": "code",
   "execution_count": 6,
   "metadata": {},
   "outputs": [
    {
     "data": {
      "text/plain": [
       "DatetimeIndex(['2019-07-01', '2019-07-02', '2019-07-03', '2019-07-04',\n",
       "               '2019-07-05', '2019-07-08', '2019-07-09', '2019-07-10',\n",
       "               '2019-07-11', '2019-07-12', '2019-07-15', '2019-07-16',\n",
       "               '2019-07-17', '2019-07-18', '2019-07-19', '2019-07-22',\n",
       "               '2019-07-23', '2019-07-24', '2019-07-25', '2019-07-26',\n",
       "               '2019-07-29', '2019-07-30'],\n",
       "              dtype='datetime64[ns]', freq='B')"
      ]
     },
     "execution_count": 6,
     "metadata": {},
     "output_type": "execute_result"
    }
   ],
   "source": [
    "#Setting daterange with frequency as Business days\n",
    "pd.date_range(start=\"7/1/2019\",end=\"7/30/2019\",freq='B')"
   ]
  },
  {
   "cell_type": "code",
   "execution_count": 7,
   "metadata": {},
   "outputs": [],
   "source": [
    "#If we want US calender and to custom the holidays on our own, we need to import the below \n",
    "from pandas.tseries.holiday import USFederalHolidayCalendar\n",
    "from pandas.tseries.offsets import CustomBusinessDay"
   ]
  },
  {
   "cell_type": "code",
   "execution_count": 8,
   "metadata": {},
   "outputs": [
    {
     "data": {
      "text/plain": [
       "<CustomBusinessDay>"
      ]
     },
     "execution_count": 8,
     "metadata": {},
     "output_type": "execute_result"
    }
   ],
   "source": [
    "#Customizing the calender as US calender\n",
    "usb=CustomBusinessDay(calendar=USFederalHolidayCalendar())\n",
    "usb"
   ]
  },
  {
   "cell_type": "code",
   "execution_count": 12,
   "metadata": {},
   "outputs": [],
   "source": [
    "#Setting the frequeney as defined above\n",
    "range=pd.date_range(start=\"7/1/2019\",end=\"7/21/2019\",freq=usb)"
   ]
  },
  {
   "cell_type": "code",
   "execution_count": 14,
   "metadata": {},
   "outputs": [
    {
     "data": {
      "text/html": [
       "<div>\n",
       "<style scoped>\n",
       "    .dataframe tbody tr th:only-of-type {\n",
       "        vertical-align: middle;\n",
       "    }\n",
       "\n",
       "    .dataframe tbody tr th {\n",
       "        vertical-align: top;\n",
       "    }\n",
       "\n",
       "    .dataframe thead th {\n",
       "        text-align: right;\n",
       "    }\n",
       "</style>\n",
       "<table border=\"1\" class=\"dataframe\">\n",
       "  <thead>\n",
       "    <tr style=\"text-align: right;\">\n",
       "      <th></th>\n",
       "      <th>Open</th>\n",
       "      <th>High</th>\n",
       "      <th>Low</th>\n",
       "      <th>Close</th>\n",
       "      <th>Volume</th>\n",
       "    </tr>\n",
       "  </thead>\n",
       "  <tbody>\n",
       "    <tr>\n",
       "      <th>2019-07-01</th>\n",
       "      <td>144.88</td>\n",
       "      <td>145.30</td>\n",
       "      <td>143.10</td>\n",
       "      <td>143.50</td>\n",
       "      <td>14277848</td>\n",
       "    </tr>\n",
       "    <tr>\n",
       "      <th>2019-07-02</th>\n",
       "      <td>143.69</td>\n",
       "      <td>144.79</td>\n",
       "      <td>142.72</td>\n",
       "      <td>144.09</td>\n",
       "      <td>21569557</td>\n",
       "    </tr>\n",
       "    <tr>\n",
       "      <th>2019-07-03</th>\n",
       "      <td>143.02</td>\n",
       "      <td>143.50</td>\n",
       "      <td>142.41</td>\n",
       "      <td>142.73</td>\n",
       "      <td>24128782</td>\n",
       "    </tr>\n",
       "    <tr>\n",
       "      <th>2019-07-05</th>\n",
       "      <td>142.90</td>\n",
       "      <td>144.75</td>\n",
       "      <td>142.90</td>\n",
       "      <td>144.18</td>\n",
       "      <td>19201712</td>\n",
       "    </tr>\n",
       "    <tr>\n",
       "      <th>2019-07-08</th>\n",
       "      <td>144.11</td>\n",
       "      <td>145.95</td>\n",
       "      <td>143.37</td>\n",
       "      <td>145.06</td>\n",
       "      <td>21090636</td>\n",
       "    </tr>\n",
       "    <tr>\n",
       "      <th>2019-07-09</th>\n",
       "      <td>144.73</td>\n",
       "      <td>145.85</td>\n",
       "      <td>144.38</td>\n",
       "      <td>145.53</td>\n",
       "      <td>19781836</td>\n",
       "    </tr>\n",
       "    <tr>\n",
       "      <th>2019-07-10</th>\n",
       "      <td>145.87</td>\n",
       "      <td>146.18</td>\n",
       "      <td>144.82</td>\n",
       "      <td>145.74</td>\n",
       "      <td>24884478</td>\n",
       "    </tr>\n",
       "    <tr>\n",
       "      <th>2019-07-11</th>\n",
       "      <td>145.50</td>\n",
       "      <td>148.49</td>\n",
       "      <td>145.44</td>\n",
       "      <td>147.77</td>\n",
       "      <td>25199373</td>\n",
       "    </tr>\n",
       "    <tr>\n",
       "      <th>2019-07-12</th>\n",
       "      <td>147.97</td>\n",
       "      <td>149.33</td>\n",
       "      <td>147.33</td>\n",
       "      <td>149.04</td>\n",
       "      <td>20132061</td>\n",
       "    </tr>\n",
       "    <tr>\n",
       "      <th>2019-07-15</th>\n",
       "      <td>148.82</td>\n",
       "      <td>150.90</td>\n",
       "      <td>148.57</td>\n",
       "      <td>149.56</td>\n",
       "      <td>23793456</td>\n",
       "    </tr>\n",
       "    <tr>\n",
       "      <th>2019-07-16</th>\n",
       "      <td>149.20</td>\n",
       "      <td>150.13</td>\n",
       "      <td>148.67</td>\n",
       "      <td>150.08</td>\n",
       "      <td>17868792</td>\n",
       "    </tr>\n",
       "    <tr>\n",
       "      <th>2019-07-17</th>\n",
       "      <td>150.48</td>\n",
       "      <td>151.42</td>\n",
       "      <td>149.95</td>\n",
       "      <td>151.02</td>\n",
       "      <td>20922969</td>\n",
       "    </tr>\n",
       "    <tr>\n",
       "      <th>2019-07-18</th>\n",
       "      <td>151.50</td>\n",
       "      <td>151.74</td>\n",
       "      <td>150.19</td>\n",
       "      <td>150.34</td>\n",
       "      <td>17243748</td>\n",
       "    </tr>\n",
       "    <tr>\n",
       "      <th>2019-07-19</th>\n",
       "      <td>149.99</td>\n",
       "      <td>150.44</td>\n",
       "      <td>148.88</td>\n",
       "      <td>150.27</td>\n",
       "      <td>26252630</td>\n",
       "    </tr>\n",
       "  </tbody>\n",
       "</table>\n",
       "</div>"
      ],
      "text/plain": [
       "              Open    High     Low   Close    Volume\n",
       "2019-07-01  144.88  145.30  143.10  143.50  14277848\n",
       "2019-07-02  143.69  144.79  142.72  144.09  21569557\n",
       "2019-07-03  143.02  143.50  142.41  142.73  24128782\n",
       "2019-07-05  142.90  144.75  142.90  144.18  19201712\n",
       "2019-07-08  144.11  145.95  143.37  145.06  21090636\n",
       "2019-07-09  144.73  145.85  144.38  145.53  19781836\n",
       "2019-07-10  145.87  146.18  144.82  145.74  24884478\n",
       "2019-07-11  145.50  148.49  145.44  147.77  25199373\n",
       "2019-07-12  147.97  149.33  147.33  149.04  20132061\n",
       "2019-07-15  148.82  150.90  148.57  149.56  23793456\n",
       "2019-07-16  149.20  150.13  148.67  150.08  17868792\n",
       "2019-07-17  150.48  151.42  149.95  151.02  20922969\n",
       "2019-07-18  151.50  151.74  150.19  150.34  17243748\n",
       "2019-07-19  149.99  150.44  148.88  150.27  26252630"
      ]
     },
     "execution_count": 14,
     "metadata": {},
     "output_type": "execute_result"
    }
   ],
   "source": [
    "#Setitnf range\n",
    "df.set_index(range,inplace=True)\n",
    "df"
   ]
  },
  {
   "cell_type": "code",
   "execution_count": 20,
   "metadata": {},
   "outputs": [
    {
     "data": {
      "text/plain": [
       "<CustomBusinessDay>"
      ]
     },
     "execution_count": 20,
     "metadata": {},
     "output_type": "execute_result"
    }
   ],
   "source": [
    "#To create our own calender, we need to create a class \n",
    "from pandas.tseries.holiday import AbstractHolidayCalendar, Holiday\n",
    "class mybirthday(AbstractHolidayCalendar):\n",
    "    rules=[\n",
    "        Holiday('manish birthday' , month=7, day=8 )\n",
    "    ]\n",
    "myc=CustomBusinessDay(calendar=mybirthday())\n",
    "myc"
   ]
  },
  {
   "cell_type": "code",
   "execution_count": 21,
   "metadata": {},
   "outputs": [
    {
     "data": {
      "text/plain": [
       "DatetimeIndex(['2019-07-01', '2019-07-02', '2019-07-03', '2019-07-04',\n",
       "               '2019-07-05', '2019-07-09', '2019-07-10', '2019-07-11',\n",
       "               '2019-07-12', '2019-07-15', '2019-07-16', '2019-07-17',\n",
       "               '2019-07-18', '2019-07-19', '2019-07-22', '2019-07-23',\n",
       "               '2019-07-24', '2019-07-25', '2019-07-26', '2019-07-29',\n",
       "               '2019-07-30'],\n",
       "              dtype='datetime64[ns]', freq='C')"
      ]
     },
     "execution_count": 21,
     "metadata": {},
     "output_type": "execute_result"
    }
   ],
   "source": [
    "#Setting the above frequency\n",
    "pd.date_range(start=\"7/1/2019\",end=\"7/30/2019\",freq=myc)"
   ]
  },
  {
   "cell_type": "code",
   "execution_count": 23,
   "metadata": {},
   "outputs": [
    {
     "data": {
      "text/plain": [
       "<CustomBusinessDay>"
      ]
     },
     "execution_count": 23,
     "metadata": {},
     "output_type": "execute_result"
    }
   ],
   "source": [
    "#IF the holiday comes on weekends, we can use nearest workday function\n",
    "from pandas.tseries.holiday import AbstractHolidayCalendar,Holiday,nearest_workday\n",
    "class myholiday(AbstractHolidayCalendar):\n",
    "    rules=[\n",
    "        Holiday('myholiday',month=7, day=13,observance=nearest_workday)\n",
    "    ]\n",
    "myhol=CustomBusinessDay(calendar=myholiday())\n",
    "myhol"
   ]
  },
  {
   "cell_type": "code",
   "execution_count": 24,
   "metadata": {},
   "outputs": [
    {
     "data": {
      "text/plain": [
       "DatetimeIndex(['2019-07-01', '2019-07-02', '2019-07-03', '2019-07-04',\n",
       "               '2019-07-05', '2019-07-08', '2019-07-09', '2019-07-10',\n",
       "               '2019-07-11', '2019-07-15', '2019-07-16', '2019-07-17',\n",
       "               '2019-07-18', '2019-07-19', '2019-07-22', '2019-07-23',\n",
       "               '2019-07-24', '2019-07-25', '2019-07-26', '2019-07-29',\n",
       "               '2019-07-30'],\n",
       "              dtype='datetime64[ns]', freq='C')"
      ]
     },
     "execution_count": 24,
     "metadata": {},
     "output_type": "execute_result"
    }
   ],
   "source": [
    "#Setting the frequency\n",
    "pd.date_range(start=\"7/1/2019\",end=\"7/30/2019\",freq=myhol)"
   ]
  },
  {
   "cell_type": "code",
   "execution_count": 25,
   "metadata": {},
   "outputs": [
    {
     "data": {
      "text/plain": [
       "<CustomBusinessDay>"
      ]
     },
     "execution_count": 25,
     "metadata": {},
     "output_type": "execute_result"
    }
   ],
   "source": [
    "#By default weekmask states the weekdays.In few countries week days varies.To change that we can specify the days using weekmask\n",
    "b=CustomBusinessDay(weekmask='Sun Mon Tue Wed Thu')\n",
    "b"
   ]
  },
  {
   "cell_type": "code",
   "execution_count": 26,
   "metadata": {},
   "outputs": [
    {
     "data": {
      "text/plain": [
       "DatetimeIndex(['2019-07-01', '2019-07-02', '2019-07-03', '2019-07-04',\n",
       "               '2019-07-07', '2019-07-08', '2019-07-09', '2019-07-10',\n",
       "               '2019-07-11', '2019-07-14', '2019-07-15', '2019-07-16',\n",
       "               '2019-07-17', '2019-07-18', '2019-07-21', '2019-07-22',\n",
       "               '2019-07-23', '2019-07-24', '2019-07-25', '2019-07-28',\n",
       "               '2019-07-29', '2019-07-30'],\n",
       "              dtype='datetime64[ns]', freq='C')"
      ]
     },
     "execution_count": 26,
     "metadata": {},
     "output_type": "execute_result"
    }
   ],
   "source": [
    "pd.date_range(start=\"7/1/2019\",end=\"7/30/2019\",freq=b)"
   ]
  },
  {
   "cell_type": "code",
   "execution_count": 28,
   "metadata": {},
   "outputs": [
    {
     "data": {
      "text/plain": [
       "DatetimeIndex(['2019-07-01', '2019-07-03', '2019-07-04', '2019-07-07',\n",
       "               '2019-07-08', '2019-07-09', '2019-07-10', '2019-07-11',\n",
       "               '2019-07-14', '2019-07-15', '2019-07-16', '2019-07-17',\n",
       "               '2019-07-18', '2019-07-21', '2019-07-22', '2019-07-23',\n",
       "               '2019-07-24', '2019-07-25', '2019-07-28', '2019-07-29',\n",
       "               '2019-07-30'],\n",
       "              dtype='datetime64[ns]', freq='C')"
      ]
     },
     "execution_count": 28,
     "metadata": {},
     "output_type": "execute_result"
    }
   ],
   "source": [
    "#We can set a particular date as holiday as below\n",
    "c=CustomBusinessDay(weekmask='Sun Mon Tue Wed Thu', holidays=[\"2019-07-02\"])\n",
    "pd.date_range(start=\"7/1/2019\",end=\"7/30/2019\",freq=c)"
   ]
  },
  {
   "cell_type": "code",
   "execution_count": null,
   "metadata": {},
   "outputs": [],
   "source": []
  }
 ],
 "metadata": {
  "kernelspec": {
   "display_name": "Python 3",
   "language": "python",
   "name": "python3"
  },
  "language_info": {
   "codemirror_mode": {
    "name": "ipython",
    "version": 3
   },
   "file_extension": ".py",
   "mimetype": "text/x-python",
   "name": "python",
   "nbconvert_exporter": "python",
   "pygments_lexer": "ipython3",
   "version": "3.7.0"
  }
 },
 "nbformat": 4,
 "nbformat_minor": 2
}
