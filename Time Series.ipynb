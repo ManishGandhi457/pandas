{
 "cells": [
  {
   "cell_type": "markdown",
   "metadata": {},
   "source": [
    "# TIME SERIES\n",
    "## it is a set of data points indexed in time order\n",
    "- Datetime index \n",
    "- Resampling"
   ]
  },
  {
   "cell_type": "code",
   "execution_count": 1,
   "metadata": {},
   "outputs": [
    {
     "name": "stderr",
     "output_type": "stream",
     "text": [
      "C:\\ProgramData\\Anaconda3\\lib\\site-packages\\ipykernel\\parentpoller.py:116: UserWarning: Parent poll failed.  If the frontend dies,\n",
      "                the kernel may be left running.  Please let us know\n",
      "                about your system (bitness, Python, etc.) at\n",
      "                ipython-dev@scipy.org\n",
      "  ipython-dev@scipy.org\"\"\")\n"
     ]
    }
   ],
   "source": [
    "import pandas as pd"
   ]
  },
  {
   "cell_type": "code",
   "execution_count": 17,
   "metadata": {},
   "outputs": [
    {
     "data": {
      "text/html": [
       "<div>\n",
       "<style scoped>\n",
       "    .dataframe tbody tr th:only-of-type {\n",
       "        vertical-align: middle;\n",
       "    }\n",
       "\n",
       "    .dataframe tbody tr th {\n",
       "        vertical-align: top;\n",
       "    }\n",
       "\n",
       "    .dataframe thead th {\n",
       "        text-align: right;\n",
       "    }\n",
       "</style>\n",
       "<table border=\"1\" class=\"dataframe\">\n",
       "  <thead>\n",
       "    <tr style=\"text-align: right;\">\n",
       "      <th></th>\n",
       "      <th>close</th>\n",
       "      <th>volume</th>\n",
       "      <th>open</th>\n",
       "      <th>high</th>\n",
       "      <th>low</th>\n",
       "    </tr>\n",
       "    <tr>\n",
       "      <th>date</th>\n",
       "      <th></th>\n",
       "      <th></th>\n",
       "      <th></th>\n",
       "      <th></th>\n",
       "      <th></th>\n",
       "    </tr>\n",
       "  </thead>\n",
       "  <tbody>\n",
       "    <tr>\n",
       "      <th>2019-08-02 16:00:00</th>\n",
       "      <td>208.43</td>\n",
       "      <td>54,017,922</td>\n",
       "      <td>214.02</td>\n",
       "      <td>218.03</td>\n",
       "      <td>206.7435</td>\n",
       "    </tr>\n",
       "    <tr>\n",
       "      <th>2019-08-01 00:00:00</th>\n",
       "      <td>208.43</td>\n",
       "      <td>54017920.0000</td>\n",
       "      <td>213.90</td>\n",
       "      <td>218.03</td>\n",
       "      <td>206.7435</td>\n",
       "    </tr>\n",
       "    <tr>\n",
       "      <th>2019-07-31 00:00:00</th>\n",
       "      <td>213.04</td>\n",
       "      <td>69281360.0000</td>\n",
       "      <td>216.42</td>\n",
       "      <td>221.37</td>\n",
       "      <td>211.3000</td>\n",
       "    </tr>\n",
       "    <tr>\n",
       "      <th>2019-07-30 00:00:00</th>\n",
       "      <td>208.78</td>\n",
       "      <td>33935720.0000</td>\n",
       "      <td>208.76</td>\n",
       "      <td>210.16</td>\n",
       "      <td>207.3100</td>\n",
       "    </tr>\n",
       "    <tr>\n",
       "      <th>2019-07-29 00:00:00</th>\n",
       "      <td>209.68</td>\n",
       "      <td>21673390.0000</td>\n",
       "      <td>208.46</td>\n",
       "      <td>210.64</td>\n",
       "      <td>208.4400</td>\n",
       "    </tr>\n",
       "  </tbody>\n",
       "</table>\n",
       "</div>"
      ],
      "text/plain": [
       "                      close         volume    open    high       low\n",
       "date                                                                \n",
       "2019-08-02 16:00:00  208.43     54,017,922  214.02  218.03  206.7435\n",
       "2019-08-01 00:00:00  208.43  54017920.0000  213.90  218.03  206.7435\n",
       "2019-07-31 00:00:00  213.04  69281360.0000  216.42  221.37  211.3000\n",
       "2019-07-30 00:00:00  208.78  33935720.0000  208.76  210.16  207.3100\n",
       "2019-07-29 00:00:00  209.68  21673390.0000  208.46  210.64  208.4400"
      ]
     },
     "execution_count": 17,
     "metadata": {},
     "output_type": "execute_result"
    }
   ],
   "source": [
    "#Parse_dates is used to convert the date column to datetime index type\n",
    "#index_col is used to convert the date colummn to index\n",
    "    df=pd.read_csv(\"D:\\Gandhi\\Machine Learning\\HistoricalQuotes.csv\",parse_dates=[\"date\"],index_col=\"date\")\n",
    "df.head()"
   ]
  },
  {
   "cell_type": "code",
   "execution_count": 20,
   "metadata": {},
   "outputs": [
    {
     "data": {
      "text/plain": [
       "pandas.core.indexes.datetimes.DatetimeIndex"
      ]
     },
     "execution_count": 20,
     "metadata": {},
     "output_type": "execute_result"
    }
   ],
   "source": [
    "#Checking the type of the index\n",
    "type(df.index)"
   ]
  },
  {
   "cell_type": "code",
   "execution_count": 21,
   "metadata": {},
   "outputs": [
    {
     "data": {
      "text/plain": [
       "DatetimeIndex(['2019-08-02 16:00:00', '2019-08-01 00:00:00',\n",
       "               '2019-07-31 00:00:00', '2019-07-30 00:00:00',\n",
       "               '2019-07-29 00:00:00', '2019-07-26 00:00:00',\n",
       "               '2019-07-25 00:00:00', '2019-07-24 00:00:00',\n",
       "               '2019-07-23 00:00:00', '2019-07-22 00:00:00',\n",
       "               '2019-07-19 00:00:00', '2019-07-18 00:00:00',\n",
       "               '2019-07-17 00:00:00', '2019-07-16 00:00:00',\n",
       "               '2019-07-15 00:00:00', '2019-07-12 00:00:00',\n",
       "               '2019-07-11 00:00:00', '2019-07-10 00:00:00',\n",
       "               '2019-07-09 00:00:00', '2019-07-08 00:00:00',\n",
       "               '2019-07-05 00:00:00', '2019-07-03 00:00:00',\n",
       "               '2019-07-02 00:00:00', '2019-07-01 00:00:00',\n",
       "               '2019-06-28 00:00:00', '2019-06-27 00:00:00',\n",
       "               '2019-06-26 00:00:00', '2019-06-25 00:00:00',\n",
       "               '2019-06-24 00:00:00', '2019-06-21 00:00:00',\n",
       "               '2019-06-20 00:00:00', '2019-06-19 00:00:00',\n",
       "               '2019-06-18 00:00:00', '2019-06-17 00:00:00',\n",
       "               '2019-06-14 00:00:00', '2019-06-13 00:00:00',\n",
       "               '2019-06-12 00:00:00', '2019-06-11 00:00:00',\n",
       "               '2019-06-10 00:00:00', '2019-06-07 00:00:00',\n",
       "               '2019-06-06 00:00:00', '2019-06-05 00:00:00',\n",
       "               '2019-06-04 00:00:00', '2019-06-03 00:00:00',\n",
       "               '2019-05-31 00:00:00', '2019-05-30 00:00:00',\n",
       "               '2019-05-29 00:00:00', '2019-05-28 00:00:00',\n",
       "               '2019-05-24 00:00:00', '2019-05-23 00:00:00',\n",
       "               '2019-05-22 00:00:00', '2019-05-21 00:00:00',\n",
       "               '2019-05-20 00:00:00', '2019-05-17 00:00:00',\n",
       "               '2019-05-16 00:00:00', '2019-05-15 00:00:00',\n",
       "               '2019-05-14 00:00:00', '2019-05-13 00:00:00',\n",
       "               '2019-05-10 00:00:00', '2019-05-09 00:00:00',\n",
       "               '2019-05-08 00:00:00', '2019-05-07 00:00:00',\n",
       "               '2019-05-06 00:00:00', '2019-05-03 00:00:00',\n",
       "               '2019-05-02 00:00:00', '2019-05-01 00:00:00'],\n",
       "              dtype='datetime64[ns]', name='date', freq=None)"
      ]
     },
     "execution_count": 21,
     "metadata": {},
     "output_type": "execute_result"
    }
   ],
   "source": [
    "#Retirving the index\n",
    "df.index"
   ]
  },
  {
   "cell_type": "code",
   "execution_count": 25,
   "metadata": {},
   "outputs": [
    {
     "data": {
      "text/html": [
       "<div>\n",
       "<style scoped>\n",
       "    .dataframe tbody tr th:only-of-type {\n",
       "        vertical-align: middle;\n",
       "    }\n",
       "\n",
       "    .dataframe tbody tr th {\n",
       "        vertical-align: top;\n",
       "    }\n",
       "\n",
       "    .dataframe thead th {\n",
       "        text-align: right;\n",
       "    }\n",
       "</style>\n",
       "<table border=\"1\" class=\"dataframe\">\n",
       "  <thead>\n",
       "    <tr style=\"text-align: right;\">\n",
       "      <th></th>\n",
       "      <th>close</th>\n",
       "      <th>volume</th>\n",
       "      <th>open</th>\n",
       "      <th>high</th>\n",
       "      <th>low</th>\n",
       "    </tr>\n",
       "    <tr>\n",
       "      <th>date</th>\n",
       "      <th></th>\n",
       "      <th></th>\n",
       "      <th></th>\n",
       "      <th></th>\n",
       "      <th></th>\n",
       "    </tr>\n",
       "  </thead>\n",
       "  <tbody>\n",
       "    <tr>\n",
       "      <th>2019-05-31</th>\n",
       "      <td>175.07</td>\n",
       "      <td>27043580.0000</td>\n",
       "      <td>176.230</td>\n",
       "      <td>177.9900</td>\n",
       "      <td>174.9900</td>\n",
       "    </tr>\n",
       "    <tr>\n",
       "      <th>2019-05-30</th>\n",
       "      <td>178.30</td>\n",
       "      <td>21218410.0000</td>\n",
       "      <td>177.950</td>\n",
       "      <td>179.2300</td>\n",
       "      <td>176.6700</td>\n",
       "    </tr>\n",
       "    <tr>\n",
       "      <th>2019-05-29</th>\n",
       "      <td>177.38</td>\n",
       "      <td>28481170.0000</td>\n",
       "      <td>176.420</td>\n",
       "      <td>179.3500</td>\n",
       "      <td>176.0000</td>\n",
       "    </tr>\n",
       "    <tr>\n",
       "      <th>2019-05-28</th>\n",
       "      <td>178.23</td>\n",
       "      <td>27948160.0000</td>\n",
       "      <td>178.920</td>\n",
       "      <td>180.5900</td>\n",
       "      <td>177.9100</td>\n",
       "    </tr>\n",
       "    <tr>\n",
       "      <th>2019-05-24</th>\n",
       "      <td>178.97</td>\n",
       "      <td>23714690.0000</td>\n",
       "      <td>180.200</td>\n",
       "      <td>182.1400</td>\n",
       "      <td>178.6200</td>\n",
       "    </tr>\n",
       "    <tr>\n",
       "      <th>2019-05-23</th>\n",
       "      <td>179.66</td>\n",
       "      <td>36529740.0000</td>\n",
       "      <td>179.800</td>\n",
       "      <td>180.5400</td>\n",
       "      <td>177.8100</td>\n",
       "    </tr>\n",
       "    <tr>\n",
       "      <th>2019-05-22</th>\n",
       "      <td>182.78</td>\n",
       "      <td>29748560.0000</td>\n",
       "      <td>184.660</td>\n",
       "      <td>185.7100</td>\n",
       "      <td>182.5500</td>\n",
       "    </tr>\n",
       "    <tr>\n",
       "      <th>2019-05-21</th>\n",
       "      <td>186.60</td>\n",
       "      <td>28364850.0000</td>\n",
       "      <td>185.220</td>\n",
       "      <td>188.0000</td>\n",
       "      <td>184.7000</td>\n",
       "    </tr>\n",
       "    <tr>\n",
       "      <th>2019-05-20</th>\n",
       "      <td>183.09</td>\n",
       "      <td>38612290.0000</td>\n",
       "      <td>183.520</td>\n",
       "      <td>184.3490</td>\n",
       "      <td>180.2839</td>\n",
       "    </tr>\n",
       "    <tr>\n",
       "      <th>2019-05-17</th>\n",
       "      <td>189.00</td>\n",
       "      <td>32879090.0000</td>\n",
       "      <td>186.930</td>\n",
       "      <td>190.9000</td>\n",
       "      <td>186.7600</td>\n",
       "    </tr>\n",
       "    <tr>\n",
       "      <th>2019-05-16</th>\n",
       "      <td>190.08</td>\n",
       "      <td>33031360.0000</td>\n",
       "      <td>189.910</td>\n",
       "      <td>192.4689</td>\n",
       "      <td>188.8400</td>\n",
       "    </tr>\n",
       "    <tr>\n",
       "      <th>2019-05-15</th>\n",
       "      <td>190.92</td>\n",
       "      <td>26544720.0000</td>\n",
       "      <td>186.270</td>\n",
       "      <td>191.7500</td>\n",
       "      <td>186.0200</td>\n",
       "    </tr>\n",
       "    <tr>\n",
       "      <th>2019-05-14</th>\n",
       "      <td>188.66</td>\n",
       "      <td>36529680.0000</td>\n",
       "      <td>186.410</td>\n",
       "      <td>189.7000</td>\n",
       "      <td>185.4100</td>\n",
       "    </tr>\n",
       "    <tr>\n",
       "      <th>2019-05-13</th>\n",
       "      <td>185.72</td>\n",
       "      <td>57430620.0000</td>\n",
       "      <td>187.710</td>\n",
       "      <td>189.4800</td>\n",
       "      <td>182.8500</td>\n",
       "    </tr>\n",
       "    <tr>\n",
       "      <th>2019-05-10</th>\n",
       "      <td>197.18</td>\n",
       "      <td>41208710.0000</td>\n",
       "      <td>197.419</td>\n",
       "      <td>198.8500</td>\n",
       "      <td>192.7700</td>\n",
       "    </tr>\n",
       "    <tr>\n",
       "      <th>2019-05-09</th>\n",
       "      <td>200.72</td>\n",
       "      <td>34908610.0000</td>\n",
       "      <td>200.400</td>\n",
       "      <td>201.6800</td>\n",
       "      <td>196.6600</td>\n",
       "    </tr>\n",
       "    <tr>\n",
       "      <th>2019-05-08</th>\n",
       "      <td>202.90</td>\n",
       "      <td>26339500.0000</td>\n",
       "      <td>201.900</td>\n",
       "      <td>205.3400</td>\n",
       "      <td>201.7500</td>\n",
       "    </tr>\n",
       "    <tr>\n",
       "      <th>2019-05-07</th>\n",
       "      <td>202.86</td>\n",
       "      <td>38763700.0000</td>\n",
       "      <td>205.880</td>\n",
       "      <td>207.4175</td>\n",
       "      <td>200.8250</td>\n",
       "    </tr>\n",
       "    <tr>\n",
       "      <th>2019-05-06</th>\n",
       "      <td>208.48</td>\n",
       "      <td>32443110.0000</td>\n",
       "      <td>204.290</td>\n",
       "      <td>208.8400</td>\n",
       "      <td>203.5000</td>\n",
       "    </tr>\n",
       "    <tr>\n",
       "      <th>2019-05-03</th>\n",
       "      <td>211.75</td>\n",
       "      <td>20892380.0000</td>\n",
       "      <td>210.890</td>\n",
       "      <td>211.8400</td>\n",
       "      <td>210.2300</td>\n",
       "    </tr>\n",
       "    <tr>\n",
       "      <th>2019-05-02</th>\n",
       "      <td>209.15</td>\n",
       "      <td>31996320.0000</td>\n",
       "      <td>209.840</td>\n",
       "      <td>212.6500</td>\n",
       "      <td>208.1300</td>\n",
       "    </tr>\n",
       "    <tr>\n",
       "      <th>2019-05-01</th>\n",
       "      <td>210.52</td>\n",
       "      <td>64827330.0000</td>\n",
       "      <td>209.880</td>\n",
       "      <td>215.3100</td>\n",
       "      <td>209.2300</td>\n",
       "    </tr>\n",
       "  </tbody>\n",
       "</table>\n",
       "</div>"
      ],
      "text/plain": [
       "             close         volume     open      high       low\n",
       "date                                                          \n",
       "2019-05-31  175.07  27043580.0000  176.230  177.9900  174.9900\n",
       "2019-05-30  178.30  21218410.0000  177.950  179.2300  176.6700\n",
       "2019-05-29  177.38  28481170.0000  176.420  179.3500  176.0000\n",
       "2019-05-28  178.23  27948160.0000  178.920  180.5900  177.9100\n",
       "2019-05-24  178.97  23714690.0000  180.200  182.1400  178.6200\n",
       "2019-05-23  179.66  36529740.0000  179.800  180.5400  177.8100\n",
       "2019-05-22  182.78  29748560.0000  184.660  185.7100  182.5500\n",
       "2019-05-21  186.60  28364850.0000  185.220  188.0000  184.7000\n",
       "2019-05-20  183.09  38612290.0000  183.520  184.3490  180.2839\n",
       "2019-05-17  189.00  32879090.0000  186.930  190.9000  186.7600\n",
       "2019-05-16  190.08  33031360.0000  189.910  192.4689  188.8400\n",
       "2019-05-15  190.92  26544720.0000  186.270  191.7500  186.0200\n",
       "2019-05-14  188.66  36529680.0000  186.410  189.7000  185.4100\n",
       "2019-05-13  185.72  57430620.0000  187.710  189.4800  182.8500\n",
       "2019-05-10  197.18  41208710.0000  197.419  198.8500  192.7700\n",
       "2019-05-09  200.72  34908610.0000  200.400  201.6800  196.6600\n",
       "2019-05-08  202.90  26339500.0000  201.900  205.3400  201.7500\n",
       "2019-05-07  202.86  38763700.0000  205.880  207.4175  200.8250\n",
       "2019-05-06  208.48  32443110.0000  204.290  208.8400  203.5000\n",
       "2019-05-03  211.75  20892380.0000  210.890  211.8400  210.2300\n",
       "2019-05-02  209.15  31996320.0000  209.840  212.6500  208.1300\n",
       "2019-05-01  210.52  64827330.0000  209.880  215.3100  209.2300"
      ]
     },
     "execution_count": 25,
     "metadata": {},
     "output_type": "execute_result"
    }
   ],
   "source": [
    "#this command is used to retrive the details of the particular date as defind below\n",
    "df[\"2019-05\"]"
   ]
  },
  {
   "cell_type": "code",
   "execution_count": 27,
   "metadata": {},
   "outputs": [
    {
     "data": {
      "text/plain": [
       "191.27363636363634"
      ]
     },
     "execution_count": 27,
     "metadata": {},
     "output_type": "execute_result"
    }
   ],
   "source": [
    "#To find the average price in the month of May\n",
    "df[\"2019-05\"].close.mean()"
   ]
  },
  {
   "cell_type": "code",
   "execution_count": 28,
   "metadata": {},
   "outputs": [
    {
     "data": {
      "text/html": [
       "<div>\n",
       "<style scoped>\n",
       "    .dataframe tbody tr th:only-of-type {\n",
       "        vertical-align: middle;\n",
       "    }\n",
       "\n",
       "    .dataframe tbody tr th {\n",
       "        vertical-align: top;\n",
       "    }\n",
       "\n",
       "    .dataframe thead th {\n",
       "        text-align: right;\n",
       "    }\n",
       "</style>\n",
       "<table border=\"1\" class=\"dataframe\">\n",
       "  <thead>\n",
       "    <tr style=\"text-align: right;\">\n",
       "      <th></th>\n",
       "      <th>close</th>\n",
       "      <th>volume</th>\n",
       "      <th>open</th>\n",
       "      <th>high</th>\n",
       "      <th>low</th>\n",
       "    </tr>\n",
       "    <tr>\n",
       "      <th>date</th>\n",
       "      <th></th>\n",
       "      <th></th>\n",
       "      <th></th>\n",
       "      <th></th>\n",
       "      <th></th>\n",
       "    </tr>\n",
       "  </thead>\n",
       "  <tbody>\n",
       "    <tr>\n",
       "      <th>2019-05-10</th>\n",
       "      <td>197.18</td>\n",
       "      <td>41208710.0000</td>\n",
       "      <td>197.419</td>\n",
       "      <td>198.85</td>\n",
       "      <td>192.77</td>\n",
       "    </tr>\n",
       "  </tbody>\n",
       "</table>\n",
       "</div>"
      ],
      "text/plain": [
       "             close         volume     open    high     low\n",
       "date                                                      \n",
       "2019-05-10  197.18  41208710.0000  197.419  198.85  192.77"
      ]
     },
     "execution_count": 28,
     "metadata": {},
     "output_type": "execute_result"
    }
   ],
   "source": [
    "#To reti=rive the details of a particuler date\n",
    "df[\"2019-05-10\"]"
   ]
  },
  {
   "cell_type": "code",
   "execution_count": 30,
   "metadata": {},
   "outputs": [
    {
     "data": {
      "text/html": [
       "<div>\n",
       "<style scoped>\n",
       "    .dataframe tbody tr th:only-of-type {\n",
       "        vertical-align: middle;\n",
       "    }\n",
       "\n",
       "    .dataframe tbody tr th {\n",
       "        vertical-align: top;\n",
       "    }\n",
       "\n",
       "    .dataframe thead th {\n",
       "        text-align: right;\n",
       "    }\n",
       "</style>\n",
       "<table border=\"1\" class=\"dataframe\">\n",
       "  <thead>\n",
       "    <tr style=\"text-align: right;\">\n",
       "      <th></th>\n",
       "      <th>close</th>\n",
       "      <th>volume</th>\n",
       "      <th>open</th>\n",
       "      <th>high</th>\n",
       "      <th>low</th>\n",
       "    </tr>\n",
       "    <tr>\n",
       "      <th>date</th>\n",
       "      <th></th>\n",
       "      <th></th>\n",
       "      <th></th>\n",
       "      <th></th>\n",
       "      <th></th>\n",
       "    </tr>\n",
       "  </thead>\n",
       "  <tbody>\n",
       "    <tr>\n",
       "      <th>2019-05-15</th>\n",
       "      <td>190.92</td>\n",
       "      <td>26544720.0000</td>\n",
       "      <td>186.270</td>\n",
       "      <td>191.7500</td>\n",
       "      <td>186.020</td>\n",
       "    </tr>\n",
       "    <tr>\n",
       "      <th>2019-05-14</th>\n",
       "      <td>188.66</td>\n",
       "      <td>36529680.0000</td>\n",
       "      <td>186.410</td>\n",
       "      <td>189.7000</td>\n",
       "      <td>185.410</td>\n",
       "    </tr>\n",
       "    <tr>\n",
       "      <th>2019-05-13</th>\n",
       "      <td>185.72</td>\n",
       "      <td>57430620.0000</td>\n",
       "      <td>187.710</td>\n",
       "      <td>189.4800</td>\n",
       "      <td>182.850</td>\n",
       "    </tr>\n",
       "    <tr>\n",
       "      <th>2019-05-10</th>\n",
       "      <td>197.18</td>\n",
       "      <td>41208710.0000</td>\n",
       "      <td>197.419</td>\n",
       "      <td>198.8500</td>\n",
       "      <td>192.770</td>\n",
       "    </tr>\n",
       "    <tr>\n",
       "      <th>2019-05-09</th>\n",
       "      <td>200.72</td>\n",
       "      <td>34908610.0000</td>\n",
       "      <td>200.400</td>\n",
       "      <td>201.6800</td>\n",
       "      <td>196.660</td>\n",
       "    </tr>\n",
       "    <tr>\n",
       "      <th>2019-05-08</th>\n",
       "      <td>202.90</td>\n",
       "      <td>26339500.0000</td>\n",
       "      <td>201.900</td>\n",
       "      <td>205.3400</td>\n",
       "      <td>201.750</td>\n",
       "    </tr>\n",
       "    <tr>\n",
       "      <th>2019-05-07</th>\n",
       "      <td>202.86</td>\n",
       "      <td>38763700.0000</td>\n",
       "      <td>205.880</td>\n",
       "      <td>207.4175</td>\n",
       "      <td>200.825</td>\n",
       "    </tr>\n",
       "    <tr>\n",
       "      <th>2019-05-06</th>\n",
       "      <td>208.48</td>\n",
       "      <td>32443110.0000</td>\n",
       "      <td>204.290</td>\n",
       "      <td>208.8400</td>\n",
       "      <td>203.500</td>\n",
       "    </tr>\n",
       "  </tbody>\n",
       "</table>\n",
       "</div>"
      ],
      "text/plain": [
       "             close         volume     open      high      low\n",
       "date                                                         \n",
       "2019-05-15  190.92  26544720.0000  186.270  191.7500  186.020\n",
       "2019-05-14  188.66  36529680.0000  186.410  189.7000  185.410\n",
       "2019-05-13  185.72  57430620.0000  187.710  189.4800  182.850\n",
       "2019-05-10  197.18  41208710.0000  197.419  198.8500  192.770\n",
       "2019-05-09  200.72  34908610.0000  200.400  201.6800  196.660\n",
       "2019-05-08  202.90  26339500.0000  201.900  205.3400  201.750\n",
       "2019-05-07  202.86  38763700.0000  205.880  207.4175  200.825\n",
       "2019-05-06  208.48  32443110.0000  204.290  208.8400  203.500"
      ]
     },
     "execution_count": 30,
     "metadata": {},
     "output_type": "execute_result"
    }
   ],
   "source": [
    "#To select the dates from a particular range\n",
    "df[\"2019-05-15\":\"2019-05-06\"]"
   ]
  },
  {
   "cell_type": "markdown",
   "metadata": {},
   "source": [
    "# Resampling"
   ]
  },
  {
   "cell_type": "code",
   "execution_count": 31,
   "metadata": {},
   "outputs": [
    {
     "data": {
      "text/plain": [
       "date\n",
       "2019-05-31    191.273636\n",
       "2019-06-30    192.969000\n",
       "2019-07-31    205.216364\n",
       "2019-08-31    208.430000\n",
       "Freq: M, Name: close, dtype: float64"
      ]
     },
     "execution_count": 31,
     "metadata": {},
     "output_type": "execute_result"
    }
   ],
   "source": [
    "#TO know the monthly stock prices of apple store\n",
    "#This gives the monthly average closing price \n",
    "df.close.resample('M').mean()"
   ]
  },
  {
   "cell_type": "code",
   "execution_count": 34,
   "metadata": {},
   "outputs": [
    {
     "data": {
      "text/plain": [
       "<matplotlib.axes._subplots.AxesSubplot at 0x1bf447db160>"
      ]
     },
     "execution_count": 34,
     "metadata": {},
     "output_type": "execute_result"
    },
    {
     "data": {
      "image/png": "[encoded data removed]",
      "text/plain": [
       "<Figure size 432x288 with 1 Axes>"
      ]
     },
     "metadata": {
      "needs_background": "light"
     },
     "output_type": "display_data"
    }
   ],
   "source": [
    "#To plot that we use plot function\n",
    "%matplotlib inline\n",
    "df.close.resample('M').mean().plot()"
   ]
  },
  {
   "cell_type": "code",
   "execution_count": 36,
   "metadata": {},
   "outputs": [
    {
     "data": {
      "text/plain": [
       "<matplotlib.axes._subplots.AxesSubplot at 0x1bf446ca240>"
      ]
     },
     "execution_count": 36,
     "metadata": {},
     "output_type": "execute_result"
    },
    {
     "data": {
      "image/png": "[encoded data removed]",
      "text/plain": [
       "<Figure size 432x288 with 1 Axes>"
      ]
     },
     "metadata": {
      "needs_background": "light"
     },
     "output_type": "display_data"
    }
   ],
   "source": [
    "df.close.resample('W').mean().plot()"
   ]
  },
  {
   "cell_type": "code",
   "execution_count": 39,
   "metadata": {},
   "outputs": [
    {
     "data": {
      "text/plain": [
       "<matplotlib.axes._subplots.AxesSubplot at 0x1bf44a1d4e0>"
      ]
     },
     "execution_count": 39,
     "metadata": {},
     "output_type": "execute_result"
    },
    {
     "data": {
      "image/png": "[encoded data removed]",
      "text/plain": [
       "<Figure size 432x288 with 1 Axes>"
      ]
     },
     "metadata": {
      "needs_background": "light"
     },
     "output_type": "display_data"
    }
   ],
   "source": [
    "df.close.resample('Q').mean().plot()"
   ]
  },
  {
   "cell_type": "code",
   "execution_count": 41,
   "metadata": {},
   "outputs": [
    {
     "data": {
      "text/plain": [
       "<matplotlib.axes._subplots.AxesSubplot at 0x1bf45e474a8>"
      ]
     },
     "execution_count": 41,
     "metadata": {},
     "output_type": "execute_result"
    },
    {
     "data": {
      "image/png": "[encoded data removed]",
      "text/plain": [
       "<Figure size 432x288 with 1 Axes>"
      ]
     },
     "metadata": {
      "needs_background": "light"
     },
     "output_type": "display_data"
    }
   ],
   "source": [
    "#To change the type of chart use \"kind function\"\n",
    "df.close.resample('W').mean().plot(kind=\"bar\")"
   ]
  },
  {
   "cell_type": "code",
   "execution_count": null,
   "metadata": {},
   "outputs": [],
   "source": []
  }
 ],
 "metadata": {
  "kernelspec": {
   "display_name": "Python 3",
   "language": "python",
   "name": "python3"
  },
  "language_info": {
   "codemirror_mode": {
    "name": "ipython",
    "version": 3
   },
   "file_extension": ".py",
   "mimetype": "text/x-python",
   "name": "python",
   "nbconvert_exporter": "python",
   "pygments_lexer": "ipython3",
   "version": "3.7.0"
  }
 },
 "nbformat": 4,
 "nbformat_minor": 2
}
